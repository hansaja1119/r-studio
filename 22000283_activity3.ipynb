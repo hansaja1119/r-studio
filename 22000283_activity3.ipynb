{
 "cells": [
  {
   "cell_type": "code",
   "execution_count": 1,
   "id": "bf83eae1-4d70-497a-bcf8-00a20af1be1f",
   "metadata": {},
   "outputs": [],
   "source": [
    "set.seed(123)\n",
    "random_data <- rnorm(100, mean = 50, sd = 10) "
   ]
  },
  {
   "cell_type": "code",
   "execution_count": 2,
   "id": "25445eaa-6f5b-42fe-b68b-163ac9d55042",
   "metadata": {},
   "outputs": [
    {
     "name": "stdout",
     "output_type": "stream",
     "text": [
      "\n",
      "  The decimal point is at the |\n",
      "\n",
      "  26 | 9\n",
      "  28 | \n",
      "  30 | 3\n",
      "  32 | 1\n",
      "  34 | 5\n",
      "  36 | 338\n",
      "  38 | 6833778\n",
      "  40 | \n",
      "  42 | 7911177\n",
      "  44 | 04401335\n",
      "  46 | 02377902677889\n",
      "  48 | 62467\n",
      "  50 | 15712358\n",
      "  52 | 24503689\n",
      "  54 | 034560558\n",
      "  56 | 4908\n",
      "  58 | 248029\n",
      "  60 | 1305\n",
      "  62 | 12567\n",
      "  64 | 236\n",
      "  66 | 29\n",
      "  68 | \n",
      "  70 | 579\n",
      "\n"
     ]
    }
   ],
   "source": [
    "stem(random_data, scale = 2)\n"
   ]
  },
  {
   "cell_type": "code",
   "execution_count": null,
   "id": "e82ca97d-1e85-41fd-a9a5-c416ce30b522",
   "metadata": {},
   "outputs": [],
   "source": []
  }
 ],
 "metadata": {
  "kernelspec": {
   "display_name": "R",
   "language": "R",
   "name": "ir"
  },
  "language_info": {
   "codemirror_mode": "r",
   "file_extension": ".r",
   "mimetype": "text/x-r-source",
   "name": "R",
   "pygments_lexer": "r",
   "version": "4.4.2"
  }
 },
 "nbformat": 4,
 "nbformat_minor": 5
}
