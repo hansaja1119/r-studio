{
 "cells": [
  {
   "cell_type": "code",
   "execution_count": 1,
   "id": "c65df122-77af-4ec3-b7dd-ebcfaf0c42b6",
   "metadata": {},
   "outputs": [
    {
     "name": "stderr",
     "output_type": "stream",
     "text": [
      "Warning message:\n",
      "\"\u001b[1m\u001b[22mRemoved 35 rows containing missing values or values outside the scale range\n",
      "(`geom_point()`).\"\n"
     ]
    },
    {
     "data": {
      "image/png": "[encoded data removed]",
      "text/plain": [
       "plot without title"
      ]
     },
     "metadata": {
      "image/png": {
       "height": 420,
       "width": 420
      }
     },
     "output_type": "display_data"
    }
   ],
   "source": [
    "library(ggplot2)\n",
    "\n",
    "df <- read.csv(\"USArrests.csv\")\n",
    "\n",
    "ggplot(df, aes(x = Murder, y = Assault)) +\n",
    "  geom_point() +\n",
    "  labs(title = \"USA arrest rates\", x = \"Murders\", y = \"Assaults\") +\n",
    "  xlim(8.0, 14.0) +\n",
    "  ylim(150, 300) +\n",
    "  theme_minimal()\n"
   ]
  },
  {
   "cell_type": "code",
   "execution_count": null,
   "id": "3d81816b-4e93-4123-8a46-63454d9fe57f",
   "metadata": {},
   "outputs": [],
   "source": []
  }
 ],
 "metadata": {
  "kernelspec": {
   "display_name": "R",
   "language": "R",
   "name": "ir"
  },
  "language_info": {
   "codemirror_mode": "r",
   "file_extension": ".r",
   "mimetype": "text/x-r-source",
   "name": "R",
   "pygments_lexer": "r",
   "version": "4.4.2"
  }
 },
 "nbformat": 4,
 "nbformat_minor": 5
}
